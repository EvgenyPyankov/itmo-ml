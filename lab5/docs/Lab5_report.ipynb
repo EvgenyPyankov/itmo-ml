{
 "cells": [
  {
   "cell_type": "markdown",
   "metadata": {},
   "source": [
    "# Лабораторная работа №5"
   ]
  },
  {
   "cell_type": "markdown",
   "metadata": {},
   "source": [
    "Текст программы:"
   ]
  },
  {
   "cell_type": "code",
   "execution_count": 3,
   "metadata": {},
   "outputs": [
    {
     "name": "stderr",
     "output_type": "stream",
     "text": [
      "D:\\Programms\\Python\\lib\\site-packages\\sklearn\\model_selection\\_split.py:2026: FutureWarning: From version 0.21, test_size will always complement train_size unless both are specified.\n",
      "  FutureWarning)\n"
     ]
    }
   ],
   "source": [
    "import numpy as np\n",
    "import pandas as pnd\n",
    "from sklearn import cross_validation\n",
    "from sklearn.discriminant_analysis import LinearDiscriminantAnalysis as LDA\n",
    "from sklearn.model_selection import cross_val_score\n",
    "from sklearn.naive_bayes import GaussianNB\n",
    "from sklearn.model_selection import train_test_split\n",
    "\n",
    "class Data:\n",
    "    def __init__(self, data, train_size):\n",
    "        attributes = data.values[:, 0:-1]\n",
    "        classes = data.values[:, -1]\n",
    "        self.train_size = train_size\n",
    "        self.train_x, self.test_x, self.train_y, self.test_y = train_test_split(attributes, classes, train_size=train_size)\n",
    "        self.y_names = set(classes)\n",
    "\n",
    "# Выберем датасет, содержащий только бинарный ответ - ноль или один\n",
    "csv = pnd.read_csv('../../data/banknote.csv')\n",
    "kFold = cross_validation.KFold(n=len(csv), random_state=50, shuffle=True)\n",
    "gnb = GaussianNB()\n",
    "lda = LDA()\n",
    "\n",
    "data = Data(csv, 0.7)\n",
    "\n",
    "X = csv.values[:, 0: -1]\n",
    "y = (csv.values[:, -1]).astype(np.int, copy=False)\n",
    "\n",
    "gnb.fit(data.train_x, data.train_y)\n",
    "gnb_predict = gnb.predict(data.test_x)\n",
    "\n",
    "lda.fit(data.train_x, data.train_y)\n",
    "lda_predict = lda.predict(data.test_x)\n",
    "\n",
    "\n",
    "def classification_accuracy(X, y):\n",
    "    gnb = GaussianNB()\n",
    "    scores = cross_val_score(gnb, X, y, cv=kFold, scoring='accuracy')\n",
    "    print(\"Accuracy for GaussianNB: %0.3f (%0.3f)\" % (scores.mean(), scores.std()))\n",
    "\n",
    "    lda = LDA()\n",
    "    scores = cross_val_score(lda, X, y, cv=kFold, scoring='accuracy')\n",
    "    print(\"Accuracy for LDA: %0.3f (%0.3f)\" % (scores.mean(), scores.std()))\n",
    "\n",
    "\n",
    "def logarithmic_loss(X, y):\n",
    "    scores = cross_val_score(gnb, X, y, cv=kFold, scoring='neg_log_loss')\n",
    "    print(\"Logarithmic loss for GaussianNB: %0.3f (%0.3f)\" % (scores.mean(), scores.std()))\n",
    "\n",
    "    scores = cross_val_score(lda, X, y, cv=kFold, scoring='neg_log_loss')\n",
    "    print(\"Logarithmic loss for LDA: %0.3f (%0.3f)\" % (scores.mean(), scores.std()))\n",
    "\n",
    "\n",
    "def area_under_roc_curve(X, y):\n",
    "    scores = cross_val_score(gnb, X, y, cv=kFold, scoring='roc_auc')\n",
    "    print(\"Area under ROC curve for GaussianNB: %0.3f (%0.3f)\" % (scores.mean(), scores.std()))\n",
    "\n",
    "    scores = cross_val_score(lda, X, y, cv=kFold, scoring='roc_auc')\n",
    "    print(\"Area under ROC curve for LDA: %0.3f (%0.3f)\" % (scores.mean(), scores.std()))\n",
    "\n",
    "\n",
    "def confusion_matrix(test_y, gnb_predict, lda_predict):\n",
    "    from sklearn.metrics import confusion_matrix\n",
    "\n",
    "    gnb_matrix = confusion_matrix(test_y, gnb_predict)\n",
    "    print(\"Confusion matrix for GaussianNB\")\n",
    "    print(gnb_matrix)\n",
    "\n",
    "    lda_matrix = confusion_matrix(test_y, lda_predict)\n",
    "    print(\"Confusion matrix for LDA\")\n",
    "    print(lda_matrix)\n",
    "\n",
    "\n",
    "def classification_report(test_y, gnb_predict, lda_predict):\n",
    "    from sklearn.metrics import classification_report\n",
    "    gnb_report = classification_report(test_y, gnb_predict)\n",
    "    print('Classification report for GaussianNB:')\n",
    "    print(gnb_report)\n",
    "\n",
    "    lda_report = classification_report(test_y, lda_predict)\n",
    "    print('Classification report for LDA:')\n",
    "    print(lda_report)\n",
    "\n"
   ]
  },
  {
   "cell_type": "markdown",
   "metadata": {},
   "source": [
    "Возьмем методы классификации GaussianNB и LDA. Посчитаем для них различные метрики."
   ]
  },
  {
   "cell_type": "markdown",
   "metadata": {},
   "source": [
    "Точность классификации (Classification Accuracy)"
   ]
  },
  {
   "cell_type": "code",
   "execution_count": 4,
   "metadata": {},
   "outputs": [
    {
     "name": "stdout",
     "output_type": "stream",
     "text": [
      "Accuracy for GaussianNB: 0.837 (0.011)\n",
      "Accuracy for LDA: 0.977 (0.001)\n"
     ]
    }
   ],
   "source": [
    "  classification_accuracy(X, y)\n"
   ]
  },
  {
   "cell_type": "markdown",
   "metadata": {},
   "source": [
    "Логарифм функции правдоподобия (Logarithmic Loss):\n"
   ]
  },
  {
   "cell_type": "code",
   "execution_count": 5,
   "metadata": {},
   "outputs": [
    {
     "name": "stdout",
     "output_type": "stream",
     "text": [
      "Logarithmic loss for GaussianNB: -0.325 (0.007)\n",
      "Logarithmic loss for LDA: -0.079 (0.012)\n"
     ]
    }
   ],
   "source": [
    "logarithmic_loss(X, y)"
   ]
  },
  {
   "cell_type": "markdown",
   "metadata": {},
   "source": [
    "Область под кривой ошибок (Area Under ROC Curve):"
   ]
  },
  {
   "cell_type": "code",
   "execution_count": 6,
   "metadata": {},
   "outputs": [
    {
     "name": "stdout",
     "output_type": "stream",
     "text": [
      "Area under ROC curve for GaussianNB: 0.939 (0.007)\n",
      "Area under ROC curve for LDA: 1.000 (0.000)\n"
     ]
    }
   ],
   "source": [
    "\n",
    "area_under_roc_curve(X, y)"
   ]
  },
  {
   "cell_type": "markdown",
   "metadata": {},
   "source": [
    "Матрица неточностей (Confusion Matrix):"
   ]
  },
  {
   "cell_type": "code",
   "execution_count": 7,
   "metadata": {},
   "outputs": [
    {
     "name": "stdout",
     "output_type": "stream",
     "text": [
      "Confusion matrix for GaussianNB\n",
      "[[199  19]\n",
      " [ 59 135]]\n",
      "Confusion matrix for LDA\n",
      "[[212   6]\n",
      " [  0 194]]\n"
     ]
    }
   ],
   "source": [
    "confusion_matrix(data.test_y, gnb_predict, lda_predict)\n"
   ]
  },
  {
   "cell_type": "markdown",
   "metadata": {},
   "source": [
    "Отчет классификации (Classification Report):"
   ]
  },
  {
   "cell_type": "code",
   "execution_count": 8,
   "metadata": {},
   "outputs": [
    {
     "name": "stdout",
     "output_type": "stream",
     "text": [
      "Classification report for GaussianNB:\n",
      "             precision    recall  f1-score   support\n",
      "\n",
      "        0.0       0.77      0.91      0.84       218\n",
      "        1.0       0.88      0.70      0.78       194\n",
      "\n",
      "avg / total       0.82      0.81      0.81       412\n",
      "\n",
      "Classification report for LDA:\n",
      "             precision    recall  f1-score   support\n",
      "\n",
      "        0.0       1.00      0.97      0.99       218\n",
      "        1.0       0.97      1.00      0.98       194\n",
      "\n",
      "avg / total       0.99      0.99      0.99       412\n",
      "\n"
     ]
    }
   ],
   "source": [
    "classification_report(data.test_y, gnb_predict, lda_predict)"
   ]
  },
  {
   "cell_type": "markdown",
   "metadata": {},
   "source": [
    "### Вывод\n",
    "\n",
    "Основываясь на полученных метриках, можно сделать вывод, что классификаторы вполне применимы для даннного датасета, так как показывают высокую точность классификации на всех метриках."
   ]
  },
  {
   "cell_type": "code",
   "execution_count": null,
   "metadata": {},
   "outputs": [],
   "source": []
  }
 ],
 "metadata": {
  "kernelspec": {
   "display_name": "Python 3",
   "language": "python",
   "name": "python3"
  },
  "language_info": {
   "codemirror_mode": {
    "name": "ipython",
    "version": 3
   },
   "file_extension": ".py",
   "mimetype": "text/x-python",
   "name": "python",
   "nbconvert_exporter": "python",
   "pygments_lexer": "ipython3",
   "version": "3.6.3"
  }
 },
 "nbformat": 4,
 "nbformat_minor": 1
}
