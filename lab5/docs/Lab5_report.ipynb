{
 "cells": [
  {
   "cell_type": "markdown",
   "metadata": {},
   "source": [
    "# Лабораторная работа №5"
   ]
  },
  {
   "cell_type": "markdown",
   "metadata": {},
   "source": [
    "Текст программы:"
   ]
  },
  {
   "cell_type": "code",
   "execution_count": 7,
   "metadata": {
    "collapsed": true
   },
   "outputs": [
    {
     "name": "stderr",
     "output_type": "stream",
     "text": [
      "C:\\Users\\evpi0116\\AppData\\Local\\Programs\\Python\\Python36\\lib\\site-packages\\sklearn\\model_selection\\_split.py:2026: FutureWarning: From version 0.21, test_size will always complement train_size unless both are specified.\n  FutureWarning)\n"
     ]
    }
   ],
   "source": [
    "import numpy as np\n",
    "import pandas as pnd\n",
    "from sklearn import cross_validation\n",
    "from sklearn.discriminant_analysis import LinearDiscriminantAnalysis as LDA\n",
    "from sklearn.model_selection import cross_val_score\n",
    "from sklearn.naive_bayes import GaussianNB\n",
    "\n",
    "from data import Data\n",
    "\n",
    "csv = pnd.read_csv('D:/Projects/Private/itmo-ml/data/banknote.csv')\n",
    "kFold = cross_validation.KFold(n=len(csv), random_state=50, shuffle=True)\n",
    "gnb = GaussianNB()\n",
    "lda = LDA()\n",
    "\n",
    "data = Data(csv, 0.7)\n",
    "\n",
    "X = csv.values[:, 0: -1]\n",
    "y = (csv.values[:, -1]).astype(np.int, copy=False)\n",
    "\n",
    "gnb.fit(data.train_x, data.train_y)\n",
    "gnb_predict = gnb.predict(data.test_x)\n",
    "\n",
    "lda.fit(data.train_x, data.train_y)\n",
    "lda_predict = lda.predict(data.test_x)\n",
    "\n",
    "\n",
    "def classification_accuracy(X, y):\n",
    "    gnb = GaussianNB()\n",
    "    scores = cross_val_score(gnb, X, y, cv=kFold, scoring='accuracy')\n",
    "    print(\"Accuracy for GaussianNB: %0.3f (%0.3f)\" % (scores.mean(), scores.std()))\n",
    "\n",
    "    lda = LDA()\n",
    "    scores = cross_val_score(lda, X, y, cv=kFold, scoring='accuracy')\n",
    "    print(\"Accuracy for LDA: %0.3f (%0.3f)\" % (scores.mean(), scores.std()))\n",
    "\n",
    "\n",
    "def logarithmic_loss(X, y):\n",
    "    scores = cross_val_score(gnb, X, y, cv=kFold, scoring='neg_log_loss')\n",
    "    print(\"Logarithmic loss for GaussianNB: %0.3f (%0.3f)\" % (scores.mean(), scores.std()))\n",
    "\n",
    "    scores = cross_val_score(lda, X, y, cv=kFold, scoring='neg_log_loss')\n",
    "    print(\"Logarithmic loss for LDA: %0.3f (%0.3f)\" % (scores.mean(), scores.std()))\n",
    "\n",
    "\n",
    "def area_under_roc_curve(X, y):\n",
    "    scores = cross_val_score(gnb, X, y, cv=kFold, scoring='roc_auc')\n",
    "    print(\"Area under ROC curve for GaussianNB: %0.3f (%0.3f)\" % (scores.mean(), scores.std()))\n",
    "\n",
    "    scores = cross_val_score(lda, X, y, cv=kFold, scoring='roc_auc')\n",
    "    print(\"Area under ROC curve for LDA: %0.3f (%0.3f)\" % (scores.mean(), scores.std()))\n",
    "\n",
    "\n",
    "def confusion_matrix(test_y, gnb_predict, lda_predict):\n",
    "    from sklearn.metrics import confusion_matrix\n",
    "\n",
    "    gnb_matrix = confusion_matrix(test_y, gnb_predict)\n",
    "    print(\"Confusion matrix for GaussianNB\")\n",
    "    print(gnb_matrix)\n",
    "\n",
    "    lda_matrix = confusion_matrix(test_y, lda_predict)\n",
    "    print(\"Confusion matrix for LDA\")\n",
    "    print(lda_matrix)\n",
    "\n",
    "\n",
    "def classification_report(test_y, gnb_predict, lda_predict):\n",
    "    from sklearn.metrics import classification_report\n",
    "    gnb_report = classification_report(test_y, gnb_predict)\n",
    "    print('Classification report for GaussianNB:')\n",
    "    print(gnb_report)\n",
    "\n",
    "    lda_report = classification_report(test_y, lda_predict)\n",
    "    print('Classification report for LDA:')\n",
    "    print(lda_report)\n",
    "\n"
   ]
  },
  {
   "cell_type": "code",
   "execution_count": null,
   "metadata": {},
   "outputs": [],
   "source": [
    "  classification_accuracy(X, y)\n"
   ]
  },
  {
   "cell_type": "code",
   "execution_count": 3,
   "metadata": {},
   "outputs": [
    {
     "name": "stdout",
     "output_type": "stream",
     "text": [
      "Logarithmic loss for GaussianNB: -0.325 (0.007)\nLogarithmic loss for LDA: -0.079 (0.012)\n"
     ]
    }
   ],
   "source": [
    "logarithmic_loss(X, y)"
   ]
  },
  {
   "cell_type": "code",
   "execution_count": 4,
   "metadata": {},
   "outputs": [
    {
     "name": "stdout",
     "output_type": "stream",
     "text": [
      "Area under ROC curve for GaussianNB: 0.939 (0.007)\nArea under ROC curve for LDA: 1.000 (0.000)\n"
     ]
    }
   ],
   "source": [
    "\n",
    "area_under_roc_curve(X, y)"
   ]
  },
  {
   "cell_type": "code",
   "execution_count": 6,
   "metadata": {},
   "outputs": [
    {
     "name": "stdout",
     "output_type": "stream",
     "text": [
      "Confusion matrix for GaussianNB\n[[212  34]\n [ 26 140]]\nConfusion matrix for LDA\n[[232  14]\n [  0 166]]\n"
     ]
    }
   ],
   "source": [
    "confusion_matrix(data.test_y, gnb_predict, lda_predict)\n"
   ]
  },
  {
   "cell_type": "code",
   "execution_count": 5,
   "metadata": {},
   "outputs": [
    {
     "name": "stdout",
     "output_type": "stream",
     "text": [
      "Classification report for GaussianNB:\n             precision    recall  f1-score   support\n\n        0.0       0.89      0.86      0.88       246\n        1.0       0.80      0.84      0.82       166\n\navg / total       0.86      0.85      0.85       412\n\nClassification report for LDA:\n             precision    recall  f1-score   support\n\n        0.0       1.00      0.94      0.97       246\n        1.0       0.92      1.00      0.96       166\n\navg / total       0.97      0.97      0.97       412\n\n"
     ]
    }
   ],
   "source": [
    "classification_report(data.test_y, gnb_predict, lda_predict)"
   ]
  },
  {
   "cell_type": "code",
   "execution_count": null,
   "metadata": {},
   "outputs": [],
   "source": []
  }
 ],
 "metadata": {
  "kernelspec": {
   "display_name": "Python 2",
   "language": "python",
   "name": "python2"
  },
  "language_info": {
   "codemirror_mode": {
    "name": "ipython",
    "version": 2
   },
   "file_extension": ".py",
   "mimetype": "text/x-python",
   "name": "python",
   "nbconvert_exporter": "python",
   "pygments_lexer": "ipython2",
   "version": "2.7.6"
  }
 },
 "nbformat": 4,
 "nbformat_minor": 0
}
