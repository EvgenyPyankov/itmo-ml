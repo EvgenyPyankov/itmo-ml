{
 "cells": [
  {
   "cell_type": "markdown",
   "metadata": {},
   "source": [
    "# Лабораторная работа №2\n",
    "## Входные данные\n",
    "Описание датасета приведено в файле /docs/Data_Set_Information.ipynb в корне репозитория.\n",
    "## Результаты\n",
    "Результаты работы программы приведены в файле results.txt.\n",
    "## Вывод\n",
    "В ходе лабораторной работы были получены практические навыки работы с методом деревьев решений на практических примерах с использованием языка программирования python и библиотеки sklearn.\n",
    "    \n",
    "Были использованы классификаторы Dicision Tree Classifier и Randrom Forest Classifier, показавшие хорошую точность предсказаний (88 - 100%) с различными по размеру обучающими выборками."
   ]
  },
  {
   "cell_type": "markdown",
   "metadata": {},
   "source": []
  }
 ],
 "metadata": {
  "kernelspec": {
   "display_name": "Python 3",
   "language": "python",
   "name": "python3"
  },
  "language_info": {
   "codemirror_mode": {
    "name": "ipython",
    "version": 3.0
   },
   "file_extension": ".py",
   "mimetype": "text/x-python",
   "name": "python",
   "nbconvert_exporter": "python",
   "pygments_lexer": "ipython3",
   "version": "3.6.2"
  }
 },
 "nbformat": 4,
 "nbformat_minor": 0
}